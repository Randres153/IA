{
  "nbformat": 4,
  "nbformat_minor": 0,
  "metadata": {
    "colab": {
      "name": "AG1 Ramiro Andres.ipynb",
      "provenance": [],
      "collapsed_sections": []
    },
    "kernelspec": {
      "name": "python3",
      "display_name": "Python 3"
    },
    "language_info": {
      "name": "python"
    }
  },
  "cells": [
    {
      "cell_type": "markdown",
      "metadata": {
        "id": "rLusPwvryYgt"
      },
      "source": [
        "# **Actividad Guiada 1 de Algoritmos de Optimización**\n",
        "Nombre: Ramiro Andres Peñaranda Gutierrez <br>\n",
        "https://github.com/Randres153/IA/blob/main/AG1_Ramiro_Andres.ipynb <br>\n",
        "https://colab.research.google.com/drive/1r-wd90XG3K5MQJe6Izj14oZinDEvEHua?usp=sharing  <br>\n"
      ]
    },
    {
      "cell_type": "markdown",
      "metadata": {
        "id": "i_WbpLmHzqx2"
      },
      "source": [
        "\n",
        "## 1) Burbuja (Bubble sort):\n",
        "\n",
        "Consiste en comparar pares de elementos adyacentes en un array y si están desordenanos intercambiarlos hasta que estén todos ordenados."
      ]
    },
    {
      "cell_type": "code",
      "metadata": {
        "colab": {
          "base_uri": "https://localhost:8080/"
        },
        "id": "rmbBKeP9zume",
        "outputId": "b7c1aaa1-9651-4a5c-bbb1-a55ec4e71d74"
      },
      "source": [
        "def bubbleSort(lista):\n",
        "  n = len(lista)\n",
        "  comparaciones = 0\n",
        "  for i in range(1,n): # Itera sobre el rango de lista\n",
        "    for j in range(n-i): # Va reduciendo las posiciones ya buscadas\n",
        "      comparaciones += 1\n",
        "      # Ordenamiento:\n",
        "      if lista[j] > lista[j+1]:\n",
        "          lista[j], lista[j+1] = lista[j+1], lista[j]\n",
        "  return lista\n",
        "\n",
        "# Evaluación:\n",
        "lst = [25,3,6,52,52,54,12,6,1,2,52]\n",
        "bubbleSort(lst)  "
      ],
      "execution_count": null,
      "outputs": [
        {
          "output_type": "execute_result",
          "data": {
            "text/plain": [
              "[1, 2, 3, 6, 6, 12, 25, 52, 52, 52, 54]"
            ]
          },
          "metadata": {
            "tags": []
          },
          "execution_count": 1
        }
      ]
    },
    {
      "cell_type": "markdown",
      "metadata": {
        "id": "V9l5MPHh1giG"
      },
      "source": [
        "## 2) Torres de Hanoy:\n",
        "Este juego consiste en tres torres con anillos ordenados de mayor a menor tamaño. Se deben pasar los anillos de la primera a la tercera torre y quedar en el mismo orden. Los anillos siempre se deben ubicar de mayor a menor teniendo como base de la torre el mayor anillo."
      ]
    },
    {
      "cell_type": "code",
      "metadata": {
        "colab": {
          "base_uri": "https://localhost:8080/"
        },
        "id": "w98UaBS11h92",
        "outputId": "9ed456bb-dfa6-46f1-ca32-ce82ab651ab2"
      },
      "source": [
        "#Torres de Hanoi - Divide y venceras\n",
        "################################################################\n",
        "# Divide y vencerás (III)\n",
        "# Recursividad y calculo del numero de operaciones\n",
        "################################################################\n",
        "def Torres_Hanoi(N, desde, hasta):\n",
        "  if N==1:\n",
        "    print('Llevar desde:' + str(desde) + ' hasta: ' +str(hasta))\n",
        "  else: \n",
        "    Torres_Hanoi(N-1,desde, 6-desde-hasta)\n",
        "    print('Llevar desde: ' + str(desde) + ' hasta: ' + str(hasta))\n",
        "    Torres_Hanoi(N-1, 6-desde-hasta, hasta)\n",
        "\n",
        "\n",
        "Torres_Hanoi(4,1,3)\n",
        "#SISTEMA = [25,10,5,1]\n",
        "################################################################"
      ],
      "execution_count": null,
      "outputs": [
        {
          "output_type": "stream",
          "text": [
            "Llevar desde:1 hasta: 2\n",
            "Llevar desde: 1 hasta: 3\n",
            "Llevar desde:2 hasta: 3\n",
            "Llevar desde: 1 hasta: 2\n",
            "Llevar desde:3 hasta: 1\n",
            "Llevar desde: 3 hasta: 2\n",
            "Llevar desde:1 hasta: 2\n",
            "Llevar desde: 1 hasta: 3\n",
            "Llevar desde:2 hasta: 3\n",
            "Llevar desde: 2 hasta: 1\n",
            "Llevar desde:3 hasta: 1\n",
            "Llevar desde: 2 hasta: 3\n",
            "Llevar desde:1 hasta: 2\n",
            "Llevar desde: 1 hasta: 3\n",
            "Llevar desde:2 hasta: 3\n"
          ],
          "name": "stdout"
        }
      ]
    },
    {
      "cell_type": "markdown",
      "metadata": {
        "id": "HiYJUnEN5KGx"
      },
      "source": [
        "## 3) Técnica Voraz:\n",
        "Basada en la división del problema por etapas, eligiendo en cada etapa \n",
        "una decisión para construir la solución que resulte la más adecuada o ambiciosa sin considerar las consecuencias. Las decisiones descartadas será descartadas para siempre. Resumen: elegir en cada etapa la decisión óptima."
      ]
    },
    {
      "cell_type": "code",
      "metadata": {
        "colab": {
          "base_uri": "https://localhost:8080/"
        },
        "id": "IzdSLAu35hfI",
        "outputId": "1c202131-ce01-450f-83cc-bc1a088b4d3d"
      },
      "source": [
        "#Cambio de monedas - Técnica voraz\n",
        "################################################################################\n",
        "# Buscar las monedas para completar la cantidad con el sistema [25, 10, 5, 1]\n",
        "################################################################\n",
        "def cambio_monedas(CANTIDAD,SISTEMA):\n",
        "  print('SISTEMA:')\n",
        "  print(SISTEMA)\n",
        "\n",
        "  SOLUCION = [0 for i in range(len(SISTEMA))]              #inicializamos el array que contendrá la cantidad de monedas de cada valor\n",
        "  VALOR_ACUMULADO = 0                                     #inicializamos el valor acumulado\n",
        "\n",
        "  for i in range(len(SISTEMA)):                           #Recorremos el sistema monetario (COnjunto de candidatos)\n",
        "    monedas = int ((CANTIDAD-VALOR_ACUMULADO)/SISTEMA[i]) #Calcula la cantidad de monedad de valor SISTEMA[i] (Función de selección)\n",
        "    SOLUCION[i] = monedas                                 #Añade el número de monedas ala solución\n",
        "    VALOR_ACUMULADO += monedas * SISTEMA[i]               #Incrementa el valor acumulado (Función de factibilidad)\n",
        "    if VALOR_ACUMULADO == CANTIDAD: return SOLUCION       #Finalizamos si ya hemos llegado a la solución(Criterio de solución final)\n",
        "  return SOLUCION\n",
        "\n",
        "\n",
        "SISTEMA = [25,10,5,1]\n",
        "cambio_monedas(27, SISTEMA)\n",
        "################################################################"
      ],
      "execution_count": null,
      "outputs": [
        {
          "output_type": "stream",
          "text": [
            "SISTEMA:\n",
            "[25, 10, 5, 1]\n"
          ],
          "name": "stdout"
        },
        {
          "output_type": "execute_result",
          "data": {
            "text/plain": [
              "[1, 0, 0, 2]"
            ]
          },
          "metadata": {
            "tags": []
          },
          "execution_count": 8
        }
      ]
    },
    {
      "cell_type": "markdown",
      "metadata": {
        "id": "J3bMKkGU947c"
      },
      "source": [
        "## 4) Algoritmo con la técnica vuelta atrás con Python(I). Backtracking:\n",
        "Construcción sistemática y por etapas de todas las soluciones posibles \n",
        "que pueden representarse mediante una tupla (x1, x2,… Xn) en la que cada \n",
        "componente xi puede explorarse en la etapa i-esima. A través de un árbol de \n",
        "expansión se modela todo el espacio de soluciones donde cada nodo es un valor \n",
        "diferente para cada elemento xi\n",
        ".\n"
      ]
    },
    {
      "cell_type": "code",
      "metadata": {
        "colab": {
          "base_uri": "https://localhost:8080/"
        },
        "id": "6aRQJ6aL96zl",
        "outputId": "93525736-6b45-40d0-e000-92f6a810dabe"
      },
      "source": [
        "#N Reinas - Vuelta Atrás()\n",
        "################################################################################\n",
        "\n",
        "#Verifica que en la solución parcial no hay amenzas entre reinas\n",
        "################################################################\n",
        "def es_prometedora(SOLUCION,etapa):\n",
        "################################################################\n",
        "  #print(SOLUCION)\n",
        "  #Si la solución tiene dos valores iguales no es valida => Dos reinas en la misma fila\n",
        "  for i in range(etapa+1):\n",
        "    #print(\"El valor \" + str(SOLUCION[i]) + \" está \" +  str(SOLUCION.count(SOLUCION[i])) + \" veces\")\n",
        "    if SOLUCION.count(SOLUCION[i]) > 1:       \n",
        "      return False\n",
        "  \n",
        "    #Verifica las diagonales\n",
        "    for j in range(i+1, etapa +1 ):\n",
        "      #print(\"Comprobando diagonal de \" + str(i) + \" y \" + str(j))\n",
        "      if abs(i-j) == abs(SOLUCION[i]-SOLUCION[j]) : return False\n",
        "  return True\n",
        "\n",
        "#Traduce la solución al tablero\n",
        "################################################################\n",
        "def escribe_solucion(S):\n",
        "################################################################\n",
        "  n = len(S)\n",
        "  for x in range(n):\n",
        "    print(\"\")\n",
        "    for i in range(n):\n",
        "      if S[i] == x+1:\n",
        "        print(\" X \" , end=\"\")\n",
        "      else:\n",
        "        print(\" - \", end=\"\")\n",
        "\n",
        "#Proceso principal de N-Reinas\n",
        "################################################################\n",
        "def reinas(N,solucion=[],etapa=0): \n",
        "  #N        - Tamaño del Tablero\n",
        "  #Solución - Solución parcial\n",
        "  #etapa    - nº de reinas colocadas en la solución parcial\n",
        "\n",
        "  #Inicializa la solución: una listra con ceros\n",
        "  if len(solucion)  == 0:\n",
        "    solucion=[0 for i in range(N)]\n",
        "\n",
        "  #Recorremos todas las reinas \n",
        "  for i in range(1,N+1):\n",
        "    solucion[etapa] = i\n",
        "\n",
        "    #print(solucion)\n",
        "    if es_prometedora(solucion,etapa):\n",
        "      if etapa == N-1:\n",
        "        print(\"\\n\\nLa solución es:\")\n",
        "        print(solucion)\n",
        "        escribe_solucion(solucion)\n",
        "      else:\n",
        "        #print(\"Es prometedora\\n########\")\n",
        "        reinas(N,solucion, etapa+1)\n",
        "    else:\n",
        "      #print(\"NO PROMETEDORA\\n########\")\n",
        "      None\n",
        "    solucion[etapa] = 0      \n",
        "################################################################\n",
        "\n",
        "N = 4\n",
        "SOLUCION = [11, 13, 24, 7]\n",
        "etapa = 0 \n",
        "reinas(N, SOLUCION,etapa)"
      ],
      "execution_count": null,
      "outputs": [
        {
          "output_type": "stream",
          "text": [
            "\n",
            "\n",
            "La solución es:\n",
            "[2, 4, 1, 3]\n",
            "\n",
            " -  -  X  - \n",
            " X  -  -  - \n",
            " -  -  -  X \n",
            " -  X  -  - \n",
            "\n",
            "La solución es:\n",
            "[3, 1, 4, 2]\n",
            "\n",
            " -  X  -  - \n",
            " -  -  -  X \n",
            " X  -  -  - \n",
            " -  -  X  - "
          ],
          "name": "stdout"
        }
      ]
    },
    {
      "cell_type": "code",
      "metadata": {
        "id": "ZE37OKEvHWue"
      },
      "source": [
        "## 5) Técnica Voraz:\n",
        "Programación dinámica (I)\n"
      ],
      "execution_count": null,
      "outputs": []
    },
    {
      "cell_type": "markdown",
      "metadata": {
        "id": "B3ntNSbFHfLg"
      },
      "source": [
        "# 5)Programación dinámica (I)\n",
        "Es posible dividir el problema en subproblemas más pequeños, guardando las \n",
        "soluciones para ser utilizadas más adelante.\n",
        " Características que permiten identificar problemas aplicables:\n",
        " Es posible almacenar soluciones de los subproblemas para ser reutilizadas.\n",
        " Debe verificar el principio de optimalidad de Bellman: “en una secuencia optima de \n",
        "decisiones, toda sub-secuencia también es óptima” (*)\n",
        " La necesidad de guardar la información acerca de las soluciones parciales unido a la \n",
        "recursividad provoca la necesidad de preocuparnos por la complejidad espacial (cuantos \n",
        "recursos de espacio usaremos)\n"
      ]
    },
    {
      "cell_type": "code",
      "metadata": {
        "colab": {
          "base_uri": "https://localhost:8080/",
          "height": 375
        },
        "id": "Glo6iE5bIC0o",
        "outputId": "0d5e3425-233c-461b-c692-805589d3a69f"
      },
      "source": [
        "#Viaje por el rio - Programación dinámica\n",
        "################################################################################\n",
        "import math\n",
        "math.inf\n",
        "\n",
        "TARIFAS = [\n",
        "[0,5,4,3,999,999,999],\n",
        "[999,0,999,2,3,999,11],\n",
        "[999,999, 0,1,999,4,10],\n",
        "[999,999,999, 0,5,6,9],\n",
        "[999,999, 999,999,0,999,4],\n",
        "[999,999, 999,999,999,0,3],\n",
        "[999,999,999,999,999,999,0]\n",
        "]\n",
        "\n",
        "#999 se puede sustituir por float(\"inf\")\n",
        "\n",
        "\n",
        "#Calculo de la matriz de PRECIOS y RUTAS\n",
        "################################################################  \n",
        "def Precios(TARIFAS):\n",
        "################################################################ \n",
        "  #Total de Nodos\n",
        "  N = len(TARIFAS[0])\n",
        "\n",
        "  #Inicialización de la tabla de precios\n",
        "  PRECIOS = [[9999]*N for i in [9999]*N]\n",
        "  RUTA = [[\"\"]*N for i in [\"\"]*N]\n",
        "\n",
        "  for i in range(N-1):\n",
        "    for j in range(i+1, N):\n",
        "      MIN = TARIFAS[i][j]\n",
        "      RUTA[i][j] = i\n",
        "\n",
        "      for k in range(i,j):\n",
        "        if PRECIOS[i][k] + TARIFAS[k][j]< MIN:\n",
        "          MIN = min(MIN, PRECIOS[i][k] + TARIFAS[k][j])\n",
        "          RUTA[i][j] = k\n",
        "      PRECIOS[i][j] = MIN\n",
        "\n",
        "  return PRECIOS,RUTA\n",
        "\n",
        "\n",
        "PRECIOS,RUTA = Precios(TARIFAS)  \n",
        "#print(PRECIOS[0][6])\n",
        "\n",
        "print(\"PRECIOS\")\n",
        "for i in range(len(TARIFAS)):\n",
        "  print(PRECIOS[i])\n",
        "\n",
        "print(\"\\nRUTA\")  \n",
        "for i in range(len(TARIFAS)):\n",
        "  print(RUTA[i])  \n",
        "  \n",
        "#Determinar la ruta con Recursividad\n",
        "################################################################\n",
        "def calcular_ruta(RUTA, desde, hasta):\n",
        "################################################################\n",
        "  if desde == hasta:\n",
        "    print(\"Ir a :\" + str(desde))\n",
        "    return desde\n",
        "  else:\n",
        "    return str(calcular_ruta( RUTA, desde, RUTA[desde][hasta])) +  \\\n",
        "                ',' + \\\n",
        "                str(RUTA[desde][hasta] \\\n",
        "              )\n",
        "    #return str(calcular_ruta(RUTA, desde, RUTA[desde][hasta])) +  ',' + str(RUTA[desde][hasta] ) \n",
        "\n",
        "print(\"\\nLa ruta es:\")  \n",
        "calcular_ruta(RUTA, 0,6) "
      ],
      "execution_count": null,
      "outputs": [
        {
          "output_type": "stream",
          "text": [
            "PRECIOS\n",
            "[9999, 5, 4, 3, 8, 8, 11]\n",
            "[9999, 9999, 999, 2, 3, 8, 7]\n",
            "[9999, 9999, 9999, 1, 6, 4, 7]\n",
            "[9999, 9999, 9999, 9999, 5, 6, 9]\n",
            "[9999, 9999, 9999, 9999, 9999, 999, 4]\n",
            "[9999, 9999, 9999, 9999, 9999, 9999, 3]\n",
            "[9999, 9999, 9999, 9999, 9999, 9999, 9999]\n",
            "\n",
            "RUTA\n",
            "['', 0, 0, 0, 1, 2, 5]\n",
            "['', '', 1, 1, 1, 3, 4]\n",
            "['', '', '', 2, 3, 2, 5]\n",
            "['', '', '', '', 3, 3, 3]\n",
            "['', '', '', '', '', 4, 4]\n",
            "['', '', '', '', '', '', 5]\n",
            "['', '', '', '', '', '', '']\n",
            "\n",
            "La ruta es:\n",
            "Ir a :0\n"
          ],
          "name": "stdout"
        },
        {
          "output_type": "execute_result",
          "data": {
            "application/vnd.google.colaboratory.intrinsic+json": {
              "type": "string"
            },
            "text/plain": [
              "'0,0,2,5'"
            ]
          },
          "metadata": {
            "tags": []
          },
          "execution_count": 1
        }
      ]
    }
  ]
}
